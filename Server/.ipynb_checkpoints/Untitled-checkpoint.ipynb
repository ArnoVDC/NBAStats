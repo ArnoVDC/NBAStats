{
 "cells": [
  {
   "cell_type": "code",
   "execution_count": null,
   "metadata": {},
   "outputs": [
    {
     "name": "stdout",
     "output_type": "stream",
     "text": [
      "Server at PORT:  8000\n"
     ]
    },
    {
     "name": "stderr",
     "output_type": "stream",
     "text": [
      "127.0.0.1 - - [23/Jan/2018 22:25:35] \"GET /files/?school=Abilene+Christian+Wildcats HTTP/1.1\" 200 -\n",
      "127.0.0.1 - - [23/Jan/2018 22:25:35] \"GET /files/css/style.css HTTP/1.1\" 200 -\n",
      "127.0.0.1 - - [23/Jan/2018 22:25:35] \"GET /files/js/jquery-3.3.1.min.js HTTP/1.1\" 200 -\n",
      "127.0.0.1 - - [23/Jan/2018 22:25:35] \"GET /files/js/script.js HTTP/1.1\" 200 -\n",
      "127.0.0.1 - - [23/Jan/2018 22:25:35] \"GET /files/img/nba.jpg HTTP/1.1\" 200 -\n",
      "127.0.0.1 - - [23/Jan/2018 22:25:36] \"GET /files/data/jsonSchools.JSON HTTP/1.1\" 200 -\n",
      "----------------------------------------\n",
      "Exception happened during processing of request from ('127.0.0.1', 53988)\n",
      "Traceback (most recent call last):\n",
      "  File \"C:\\Users\\arnov\\Anaconda3\\lib\\socketserver.py\", line 317, in _handle_request_noblock\n",
      "    self.process_request(request, client_address)\n",
      "  File \"C:\\Users\\arnov\\Anaconda3\\lib\\socketserver.py\", line 348, in process_request\n",
      "    self.finish_request(request, client_address)\n",
      "  File \"C:\\Users\\arnov\\Anaconda3\\lib\\socketserver.py\", line 361, in finish_request\n",
      "    self.RequestHandlerClass(request, client_address, self)\n",
      "  File \"C:\\Users\\arnov\\Anaconda3\\lib\\socketserver.py\", line 696, in __init__\n",
      "    self.handle()\n",
      "  File \"C:\\Users\\arnov\\Anaconda3\\lib\\http\\server.py\", line 418, in handle\n",
      "    self.handle_one_request()\n",
      "  File \"C:\\Users\\arnov\\Anaconda3\\lib\\http\\server.py\", line 406, in handle_one_request\n",
      "    method()\n",
      "  File \"<ipython-input-1-2863103888c7>\", line 12, in do_POST\n",
      "    fields = uparse_qs(field_data)\n",
      "NameError: name 'uparse_qs' is not defined\n",
      "----------------------------------------\n",
      "----------------------------------------\n",
      "Exception happened during processing of request from ('127.0.0.1', 53995)\n",
      "Traceback (most recent call last):\n",
      "  File \"C:\\Users\\arnov\\Anaconda3\\lib\\socketserver.py\", line 317, in _handle_request_noblock\n",
      "    self.process_request(request, client_address)\n",
      "  File \"C:\\Users\\arnov\\Anaconda3\\lib\\socketserver.py\", line 348, in process_request\n",
      "    self.finish_request(request, client_address)\n",
      "  File \"C:\\Users\\arnov\\Anaconda3\\lib\\socketserver.py\", line 361, in finish_request\n",
      "    self.RequestHandlerClass(request, client_address, self)\n",
      "  File \"C:\\Users\\arnov\\Anaconda3\\lib\\socketserver.py\", line 696, in __init__\n",
      "    self.handle()\n",
      "  File \"C:\\Users\\arnov\\Anaconda3\\lib\\http\\server.py\", line 418, in handle\n",
      "    self.handle_one_request()\n",
      "  File \"C:\\Users\\arnov\\Anaconda3\\lib\\http\\server.py\", line 406, in handle_one_request\n",
      "    method()\n",
      "  File \"<ipython-input-1-2863103888c7>\", line 12, in do_POST\n",
      "    fields = uparse_qs(field_data)\n",
      "NameError: name 'uparse_qs' is not defined\n",
      "----------------------------------------\n"
     ]
    }
   ],
   "source": [
    "import http.server\n",
    "import socketserver\n",
    "import cgi\n",
    "from urllib.parse import urlparse, parse_qs\n",
    "\n",
    "port = 8000\n",
    "\n",
    "class Handler(http.server.SimpleHTTPRequestHandler):\n",
    "    def do_POST(self):\n",
    "        length = int(self.headers.get('content-length'))\n",
    "        field_data = self.rfile.read(length)\n",
    "        fields = parse_qs(field_data)\n",
    "        print(fields)\n",
    "        \n",
    "httpd = socketserver.TCPServer((\"\",port), Handler)\n",
    "print(\"Server at PORT: \", port)\n",
    "httpd.serve_forever()\n",
    "\n"
   ]
  },
  {
   "cell_type": "code",
   "execution_count": null,
   "metadata": {
    "collapsed": true
   },
   "outputs": [],
   "source": []
  },
  {
   "cell_type": "code",
   "execution_count": null,
   "metadata": {
    "collapsed": true
   },
   "outputs": [],
   "source": []
  }
 ],
 "metadata": {
  "kernelspec": {
   "display_name": "Python 3",
   "language": "python",
   "name": "python3"
  },
  "language_info": {
   "codemirror_mode": {
    "name": "ipython",
    "version": 3
   },
   "file_extension": ".py",
   "mimetype": "text/x-python",
   "name": "python",
   "nbconvert_exporter": "python",
   "pygments_lexer": "ipython3",
   "version": "3.6.3"
  }
 },
 "nbformat": 4,
 "nbformat_minor": 2
}
