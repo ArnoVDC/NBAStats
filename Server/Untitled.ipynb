{
 "cells": [
  {
   "cell_type": "code",
   "execution_count": null,
   "metadata": {},
   "outputs": [
    {
     "name": "stdout",
     "output_type": "stream",
     "text": [
      "[]\n",
      "Server at PORT:  8080\n"
     ]
    },
    {
     "name": "stderr",
     "output_type": "stream",
     "text": [
      "127.0.0.1 - - [23/Jan/2018 23:07:11] \"GET /Untitled.ipynb HTTP/1.1\" 200 -\n",
      "127.0.0.1 - - [23/Jan/2018 23:07:12] \"GET /files/ HTTP/1.1\" 200 -\n",
      "127.0.0.1 - - [23/Jan/2018 23:07:13] \"GET /files/css/style.css HTTP/1.1\" 200 -\n",
      "127.0.0.1 - - [23/Jan/2018 23:07:13] \"GET /files/js/jquery-3.3.1.min.js HTTP/1.1\" 200 -\n",
      "127.0.0.1 - - [23/Jan/2018 23:07:13] \"GET /files/js/script.js HTTP/1.1\" 200 -\n",
      "127.0.0.1 - - [23/Jan/2018 23:07:13] \"GET /files/data/jsonSchools.JSON HTTP/1.1\" 200 -\n",
      "127.0.0.1 - - [23/Jan/2018 23:07:13] \"GET /files/img/nba.jpg HTTP/1.1\" 200 -\n"
     ]
    },
    {
     "name": "stdout",
     "output_type": "stream",
     "text": [
      "['hello,G=hello,MP=hello,PTS=hello,TRB=hello,AST=hello,STL=hello,BLK=hello,FG%=hello,2P%=hello,3P%=hello,FT%=hello,WS=hello,WS=hello']\n"
     ]
    },
    {
     "name": "stderr",
     "output_type": "stream",
     "text": [
      "127.0.0.1 - - [23/Jan/2018 23:07:16] \"POST /files/ HTTP/1.1\" 200 -\n",
      "127.0.0.1 - - [23/Jan/2018 23:23:25] code 404, message File not found\n",
      "127.0.0.1 - - [23/Jan/2018 23:23:25] \"GET /Server/files/index.html HTTP/1.1\" 404 -\n",
      "127.0.0.1 - - [23/Jan/2018 23:23:29] \"GET /files/ HTTP/1.1\" 200 -\n",
      "127.0.0.1 - - [23/Jan/2018 23:23:29] \"GET /files/css/style.css HTTP/1.1\" 200 -\n",
      "127.0.0.1 - - [23/Jan/2018 23:23:29] \"GET /files/js/jquery-3.3.1.min.js HTTP/1.1\" 200 -\n",
      "127.0.0.1 - - [23/Jan/2018 23:23:29] \"GET /files/js/script.js HTTP/1.1\" 200 -\n",
      "127.0.0.1 - - [23/Jan/2018 23:23:29] \"GET /files/data/jsonSchools.JSON HTTP/1.1\" 200 -\n",
      "127.0.0.1 - - [23/Jan/2018 23:23:30] \"GET /files/img/nba.jpg HTTP/1.1\" 200 -\n"
     ]
    },
    {
     "name": "stdout",
     "output_type": "stream",
     "text": [
      "['hello,G=hello,MP=hello,PTS=hello,TRB=hello,AST=hello,STL=hello,BLK=hello,FG%=hello,2P%=hello,3P%=hello,FT%=hello,WS=hello,WS=hello']\n"
     ]
    },
    {
     "name": "stderr",
     "output_type": "stream",
     "text": [
      "127.0.0.1 - - [23/Jan/2018 23:23:48] \"POST /files/ HTTP/1.1\" 200 -\n",
      "127.0.0.1 - - [23/Jan/2018 23:26:53] \"GET /files/ HTTP/1.1\" 200 -\n",
      "127.0.0.1 - - [23/Jan/2018 23:26:54] \"GET /files/js/script.js HTTP/1.1\" 200 -\n"
     ]
    },
    {
     "name": "stdout",
     "output_type": "stream",
     "text": [
      "['hello,G=hello,MP=hello,PTS=hello,TRB=hello,AST=hello,STL=hello,BLK=hello,FG%=hello,2P%=hello,3P%=hello,FT%=hello,WS=hello,WS=hello']\n"
     ]
    },
    {
     "name": "stderr",
     "output_type": "stream",
     "text": [
      "127.0.0.1 - - [23/Jan/2018 23:27:08] \"POST /files/ HTTP/1.1\" 200 -\n",
      "127.0.0.1 - - [23/Jan/2018 23:29:15] \"GET /files/ HTTP/1.1\" 200 -\n",
      "127.0.0.1 - - [23/Jan/2018 23:29:15] \"GET /files/css/style.css HTTP/1.1\" 200 -\n",
      "127.0.0.1 - - [23/Jan/2018 23:29:15] \"GET /files/js/jquery-3.3.1.min.js HTTP/1.1\" 200 -\n",
      "127.0.0.1 - - [23/Jan/2018 23:29:15] \"GET /files/js/script.js HTTP/1.1\" 200 -\n",
      "127.0.0.1 - - [23/Jan/2018 23:29:15] \"GET /files/img/nba.jpg HTTP/1.1\" 200 -\n",
      "127.0.0.1 - - [23/Jan/2018 23:29:16] \"GET /files/data/jsonSchools.JSON HTTP/1.1\" 200 -\n"
     ]
    },
    {
     "name": "stdout",
     "output_type": "stream",
     "text": [
      "['hello,G=hello,MP=hello,PTS=hello,TRB=hello,AST=hello,STL=hello,BLK=hello,FG%=hello,2P%=hello,3P%=hello,FT%=hello,WS=hello,WS=hello']\n"
     ]
    },
    {
     "name": "stderr",
     "output_type": "stream",
     "text": [
      "127.0.0.1 - - [23/Jan/2018 23:29:33] \"POST /files/ HTTP/1.1\" 200 -\n",
      "127.0.0.1 - - [23/Jan/2018 23:35:32] \"GET /files/ HTTP/1.1\" 200 -\n",
      "127.0.0.1 - - [23/Jan/2018 23:35:33] \"GET /files/css/style.css HTTP/1.1\" 200 -\n",
      "127.0.0.1 - - [23/Jan/2018 23:35:33] \"GET /files/js/jquery-3.3.1.min.js HTTP/1.1\" 200 -\n",
      "127.0.0.1 - - [23/Jan/2018 23:35:33] \"GET /files/js/script.js HTTP/1.1\" 200 -\n",
      "127.0.0.1 - - [23/Jan/2018 23:35:33] \"GET /files/img/nba.jpg HTTP/1.1\" 200 -\n",
      "127.0.0.1 - - [23/Jan/2018 23:35:53] \"GET /files/ HTTP/1.1\" 200 -\n",
      "127.0.0.1 - - [23/Jan/2018 23:35:53] \"GET /files/js/script.js HTTP/1.1\" 200 -\n",
      "127.0.0.1 - - [23/Jan/2018 23:35:54] \"GET /files/ HTTP/1.1\" 200 -\n",
      "127.0.0.1 - - [23/Jan/2018 23:35:54] \"GET /files/js/script.js HTTP/1.1\" 200 -\n",
      "127.0.0.1 - - [23/Jan/2018 23:36:00] \"GET /files/ HTTP/1.1\" 200 -\n",
      "127.0.0.1 - - [23/Jan/2018 23:36:01] \"GET /files/js/script.js HTTP/1.1\" 200 -\n",
      "127.0.0.1 - - [23/Jan/2018 23:37:07] \"GET /files/ HTTP/1.1\" 200 -\n",
      "127.0.0.1 - - [23/Jan/2018 23:37:07] \"GET /files/js/script.js HTTP/1.1\" 200 -\n",
      "127.0.0.1 - - [23/Jan/2018 23:37:08] \"GET /files/data/jsonSchools.JSON HTTP/1.1\" 200 -\n"
     ]
    },
    {
     "name": "stdout",
     "output_type": "stream",
     "text": [
      "['hello,G=hello,MP=hello,PTS=hello,TRB=hello,AST=hello,STL=hello,BLK=hello,FG%=hello,2P%=hello,3P%=hello,FT%=hello,WS=hello,WS=hello', 'Abilene Christian Wildcats', '2', 'fdsqf']\n"
     ]
    },
    {
     "name": "stderr",
     "output_type": "stream",
     "text": [
      "127.0.0.1 - - [23/Jan/2018 23:37:24] \"POST /files/ HTTP/1.1\" 200 -\n",
      "127.0.0.1 - - [23/Jan/2018 23:37:46] \"GET /files/ HTTP/1.1\" 200 -\n",
      "127.0.0.1 - - [23/Jan/2018 23:37:47] \"GET /files/ HTTP/1.1\" 200 -\n",
      "127.0.0.1 - - [23/Jan/2018 23:37:47] \"GET /files/js/script.js HTTP/1.1\" 200 -\n",
      "127.0.0.1 - - [23/Jan/2018 23:37:51] \"GET /files/ HTTP/1.1\" 200 -\n",
      "127.0.0.1 - - [23/Jan/2018 23:37:51] \"GET /files/js/script.js HTTP/1.1\" 200 -\n"
     ]
    },
    {
     "name": "stdout",
     "output_type": "stream",
     "text": [
      "['hello,G=hello,MP=hello,PTS=hello,TRB=hello,AST=hello,STL=hello,BLK=hello,FG%=hello,2P%=hello,3P%=hello,FT%=hello,WS=hello,WS=hello', 'Abilene Christian Wildcats', '2', 'fdsqf', 'Abilene Christian Wildcats', '2', 'dsff', 'dsf', 'dsf', 'sd', 'fsq', 'sdqf', 'sqdf', 'sqdfP3=fqsdf', 'fqs', 'sqdf']\n"
     ]
    },
    {
     "name": "stderr",
     "output_type": "stream",
     "text": [
      "127.0.0.1 - - [23/Jan/2018 23:38:03] \"POST /files/ HTTP/1.1\" 200 -\n"
     ]
    },
    {
     "name": "stdout",
     "output_type": "stream",
     "text": [
      "['hello,G=hello,MP=hello,PTS=hello,TRB=hello,AST=hello,STL=hello,BLK=hello,FG%=hello,2P%=hello,3P%=hello,FT%=hello,WS=hello,WS=hello', 'Abilene Christian Wildcats', '2', 'fdsqf', 'Abilene Christian Wildcats', '2', 'dsff', 'dsf', 'dsf', 'sd', 'fsq', 'sdqf', 'sqdf', 'sqdfP3=fqsdf', 'fqs', 'sqdf', 'Alabama A', '2', 'dsff', 'dsf', 'dsf', 'sd', 'fsq', 'sdqf', 'sqdf', 'sqdfP3=fqsdf', 'fqs', 'sqdf']\n"
     ]
    },
    {
     "name": "stderr",
     "output_type": "stream",
     "text": [
      "127.0.0.1 - - [23/Jan/2018 23:38:55] \"POST /files/ HTTP/1.1\" 200 -\n",
      "127.0.0.1 - - [23/Jan/2018 23:40:34] \"GET /files/ HTTP/1.1\" 200 -\n",
      "127.0.0.1 - - [23/Jan/2018 23:40:34] \"GET /files/js/script.js HTTP/1.1\" 200 -\n"
     ]
    },
    {
     "name": "stdout",
     "output_type": "stream",
     "text": [
      "['hello,G=hello,MP=hello,PTS=hello,TRB=hello,AST=hello,STL=hello,BLK=hello,FG%=hello,2P%=hello,3P%=hello,FT%=hello,WS=hello,WS=hello', 'Abilene Christian Wildcats', '2', 'fdsqf', 'Abilene Christian Wildcats', '2', 'dsff', 'dsf', 'dsf', 'sd', 'fsq', 'sdqf', 'sqdf', 'sqdfP3=fqsdf', 'fqs', 'sqdf', 'Alabama A', '2', 'dsff', 'dsf', 'dsf', 'sd', 'fsq', 'sdqf', 'sqdf', 'sqdfP3=fqsdf', 'fqs', 'sqdf', 'school', '3', '23', '31', '5', '31', '541', '316', '5413', '16P3=413', '16', '11']\n"
     ]
    },
    {
     "name": "stderr",
     "output_type": "stream",
     "text": [
      "127.0.0.1 - - [23/Jan/2018 23:40:47] \"POST /files/ HTTP/1.1\" 200 -\n"
     ]
    },
    {
     "name": "stdout",
     "output_type": "stream",
     "text": [
      "['hello,G=hello,MP=hello,PTS=hello,TRB=hello,AST=hello,STL=hello,BLK=hello,FG%=hello,2P%=hello,3P%=hello,FT%=hello,WS=hello,WS=hello', 'Abilene Christian Wildcats', '2', 'fdsqf', 'Abilene Christian Wildcats', '2', 'dsff', 'dsf', 'dsf', 'sd', 'fsq', 'sdqf', 'sqdf', 'sqdfP3=fqsdf', 'fqs', 'sqdf', 'Alabama A', '2', 'dsff', 'dsf', 'dsf', 'sd', 'fsq', 'sdqf', 'sqdf', 'sqdfP3=fqsdf', 'fqs', 'sqdf', 'school', '3', '23', '31', '5', '31', '541', '316', '5413', '16P3=413', '16', '11', 'school', '3', '23', '31', '5', '31', '541', '316', '5413', '16P3=413', '16', '11']\n"
     ]
    },
    {
     "name": "stderr",
     "output_type": "stream",
     "text": [
      "127.0.0.1 - - [23/Jan/2018 23:41:03] \"POST /files/ HTTP/1.1\" 200 -\n",
      "127.0.0.1 - - [23/Jan/2018 23:41:06] \"GET /files/ HTTP/1.1\" 200 -\n",
      "127.0.0.1 - - [23/Jan/2018 23:41:07] \"GET /files/js/script.js HTTP/1.1\" 200 -\n"
     ]
    },
    {
     "name": "stdout",
     "output_type": "stream",
     "text": [
      "['hello,G=hello,MP=hello,PTS=hello,TRB=hello,AST=hello,STL=hello,BLK=hello,FG%=hello,2P%=hello,3P%=hello,FT%=hello,WS=hello,WS=hello', 'Abilene Christian Wildcats', '2', 'fdsqf', 'Abilene Christian Wildcats', '2', 'dsff', 'dsf', 'dsf', 'sd', 'fsq', 'sdqf', 'sqdf', 'sqdfP3=fqsdf', 'fqs', 'sqdf', 'Alabama A', '2', 'dsff', 'dsf', 'dsf', 'sd', 'fsq', 'sdqf', 'sqdf', 'sqdfP3=fqsdf', 'fqs', 'sqdf', 'school', '3', '23', '31', '5', '31', '541', '316', '5413', '16P3=413', '16', '11', 'school', '3', '23', '31', '5', '31', '541', '316', '5413', '16P3=413', '16', '11', 'undefined', '2', '654', '66', '54', '31', '641', '316', '1', '316P3=13', '46', '16']\n"
     ]
    },
    {
     "name": "stderr",
     "output_type": "stream",
     "text": [
      "127.0.0.1 - - [23/Jan/2018 23:41:15] \"POST /files/ HTTP/1.1\" 200 -\n",
      "127.0.0.1 - - [23/Jan/2018 23:42:40] \"GET /files/ HTTP/1.1\" 200 -\n",
      "127.0.0.1 - - [23/Jan/2018 23:42:40] \"GET /files/css/style.css HTTP/1.1\" 200 -\n",
      "127.0.0.1 - - [23/Jan/2018 23:42:40] \"GET /files/js/jquery-3.3.1.min.js HTTP/1.1\" 200 -\n",
      "127.0.0.1 - - [23/Jan/2018 23:42:40] \"GET /files/js/script.js HTTP/1.1\" 200 -\n",
      "127.0.0.1 - - [23/Jan/2018 23:42:40] \"GET /files/img/nba.jpg HTTP/1.1\" 200 -\n"
     ]
    },
    {
     "name": "stdout",
     "output_type": "stream",
     "text": [
      "['hello,G=hello,MP=hello,PTS=hello,TRB=hello,AST=hello,STL=hello,BLK=hello,FG%=hello,2P%=hello,3P%=hello,FT%=hello,WS=hello,WS=hello', 'Abilene Christian Wildcats', '2', 'fdsqf', 'Abilene Christian Wildcats', '2', 'dsff', 'dsf', 'dsf', 'sd', 'fsq', 'sdqf', 'sqdf', 'sqdfP3=fqsdf', 'fqs', 'sqdf', 'Alabama A', '2', 'dsff', 'dsf', 'dsf', 'sd', 'fsq', 'sdqf', 'sqdf', 'sqdfP3=fqsdf', 'fqs', 'sqdf', 'school', '3', '23', '31', '5', '31', '541', '316', '5413', '16P3=413', '16', '11', 'school', '3', '23', '31', '5', '31', '541', '316', '5413', '16P3=413', '16', '11', 'undefined', '2', '654', '66', '54', '31', '641', '316', '1', '316P3=13', '46', '16', 'school', 'P3=']\n"
     ]
    },
    {
     "name": "stderr",
     "output_type": "stream",
     "text": [
      "127.0.0.1 - - [23/Jan/2018 23:42:44] \"POST /files/ HTTP/1.1\" 200 -\n",
      "127.0.0.1 - - [23/Jan/2018 23:43:49] \"GET /files/ HTTP/1.1\" 200 -\n",
      "127.0.0.1 - - [23/Jan/2018 23:43:49] \"GET /files/js/script.js HTTP/1.1\" 200 -\n",
      "127.0.0.1 - - [23/Jan/2018 23:43:49] \"GET /files/data/jsonSchools.JSON HTTP/1.1\" 200 -\n"
     ]
    },
    {
     "name": "stdout",
     "output_type": "stream",
     "text": [
      "['hello,G=hello,MP=hello,PTS=hello,TRB=hello,AST=hello,STL=hello,BLK=hello,FG%=hello,2P%=hello,3P%=hello,FT%=hello,WS=hello,WS=hello', 'Abilene Christian Wildcats', '2', 'fdsqf', 'Abilene Christian Wildcats', '2', 'dsff', 'dsf', 'dsf', 'sd', 'fsq', 'sdqf', 'sqdf', 'sqdfP3=fqsdf', 'fqs', 'sqdf', 'Alabama A', '2', 'dsff', 'dsf', 'dsf', 'sd', 'fsq', 'sdqf', 'sqdf', 'sqdfP3=fqsdf', 'fqs', 'sqdf', 'school', '3', '23', '31', '5', '31', '541', '316', '5413', '16P3=413', '16', '11', 'school', '3', '23', '31', '5', '31', '541', '316', '5413', '16P3=413', '16', '11', 'undefined', '2', '654', '66', '54', '31', '641', '316', '1', '316P3=13', '46', '16', 'school', 'P3=', 'undefined', 'P3=']\n"
     ]
    },
    {
     "name": "stderr",
     "output_type": "stream",
     "text": [
      "127.0.0.1 - - [23/Jan/2018 23:43:52] \"POST /files/ HTTP/1.1\" 200 -\n",
      "127.0.0.1 - - [23/Jan/2018 23:49:20] \"GET /files/ HTTP/1.1\" 200 -\n",
      "127.0.0.1 - - [23/Jan/2018 23:49:21] \"GET /files/js/script.js HTTP/1.1\" 200 -\n"
     ]
    },
    {
     "name": "stdout",
     "output_type": "stream",
     "text": [
      "['hello,G=hello,MP=hello,PTS=hello,TRB=hello,AST=hello,STL=hello,BLK=hello,FG%=hello,2P%=hello,3P%=hello,FT%=hello,WS=hello,WS=hello', 'Abilene Christian Wildcats', '2', 'fdsqf', 'Abilene Christian Wildcats', '2', 'dsff', 'dsf', 'dsf', 'sd', 'fsq', 'sdqf', 'sqdf', 'sqdfP3=fqsdf', 'fqs', 'sqdf', 'Alabama A', '2', 'dsff', 'dsf', 'dsf', 'sd', 'fsq', 'sdqf', 'sqdf', 'sqdfP3=fqsdf', 'fqs', 'sqdf', 'school', '3', '23', '31', '5', '31', '541', '316', '5413', '16P3=413', '16', '11', 'school', '3', '23', '31', '5', '31', '541', '316', '5413', '16P3=413', '16', '11', 'undefined', '2', '654', '66', '54', '31', '641', '316', '1', '316P3=13', '46', '16', 'school', 'P3=', 'undefined', 'P3=', 'undefined', '2', 'P3=']\n"
     ]
    },
    {
     "name": "stderr",
     "output_type": "stream",
     "text": [
      "127.0.0.1 - - [23/Jan/2018 23:49:27] \"POST /files/ HTTP/1.1\" 200 -\n",
      "127.0.0.1 - - [23/Jan/2018 23:49:36] \"GET /files/ HTTP/1.1\" 200 -\n",
      "127.0.0.1 - - [23/Jan/2018 23:49:36] \"GET /files/css/style.css HTTP/1.1\" 200 -\n",
      "127.0.0.1 - - [23/Jan/2018 23:49:36] \"GET /files/js/jquery-3.3.1.min.js HTTP/1.1\" 200 -\n",
      "127.0.0.1 - - [23/Jan/2018 23:49:36] \"GET /files/js/script.js HTTP/1.1\" 200 -\n",
      "127.0.0.1 - - [23/Jan/2018 23:49:36] \"GET /files/img/nba.jpg HTTP/1.1\" 200 -\n",
      "127.0.0.1 - - [23/Jan/2018 23:49:41] \"GET /files/ HTTP/1.1\" 200 -\n",
      "127.0.0.1 - - [23/Jan/2018 23:49:41] \"GET /files/js/script.js HTTP/1.1\" 200 -\n",
      "127.0.0.1 - - [23/Jan/2018 23:50:45] \"GET /files/ HTTP/1.1\" 200 -\n",
      "127.0.0.1 - - [23/Jan/2018 23:50:45] \"GET /files/js/script.js HTTP/1.1\" 200 -\n"
     ]
    },
    {
     "name": "stdout",
     "output_type": "stream",
     "text": [
      "['hello,G=hello,MP=hello,PTS=hello,TRB=hello,AST=hello,STL=hello,BLK=hello,FG%=hello,2P%=hello,3P%=hello,FT%=hello,WS=hello,WS=hello', 'Abilene Christian Wildcats', '2', 'fdsqf', 'Abilene Christian Wildcats', '2', 'dsff', 'dsf', 'dsf', 'sd', 'fsq', 'sdqf', 'sqdf', 'sqdfP3=fqsdf', 'fqs', 'sqdf', 'Alabama A', '2', 'dsff', 'dsf', 'dsf', 'sd', 'fsq', 'sdqf', 'sqdf', 'sqdfP3=fqsdf', 'fqs', 'sqdf', 'school', '3', '23', '31', '5', '31', '541', '316', '5413', '16P3=413', '16', '11', 'school', '3', '23', '31', '5', '31', '541', '316', '5413', '16P3=413', '16', '11', 'undefined', '2', '654', '66', '54', '31', '641', '316', '1', '316P3=13', '46', '16', 'school', 'P3=', 'undefined', 'P3=', 'undefined', '2', 'P3=', 'undefined', 'P3=']\n"
     ]
    },
    {
     "name": "stderr",
     "output_type": "stream",
     "text": [
      "127.0.0.1 - - [23/Jan/2018 23:50:47] \"POST /files/ HTTP/1.1\" 200 -\n",
      "127.0.0.1 - - [23/Jan/2018 23:51:08] \"GET /files/ HTTP/1.1\" 200 -\n",
      "127.0.0.1 - - [23/Jan/2018 23:51:08] \"GET /files/js/script.js HTTP/1.1\" 200 -\n",
      "127.0.0.1 - - [23/Jan/2018 23:51:08] \"GET /files/data/jsonSchools.JSON HTTP/1.1\" 200 -\n"
     ]
    },
    {
     "name": "stdout",
     "output_type": "stream",
     "text": [
      "['hello,G=hello,MP=hello,PTS=hello,TRB=hello,AST=hello,STL=hello,BLK=hello,FG%=hello,2P%=hello,3P%=hello,FT%=hello,WS=hello,WS=hello', 'Abilene Christian Wildcats', '2', 'fdsqf', 'Abilene Christian Wildcats', '2', 'dsff', 'dsf', 'dsf', 'sd', 'fsq', 'sdqf', 'sqdf', 'sqdfP3=fqsdf', 'fqs', 'sqdf', 'Alabama A', '2', 'dsff', 'dsf', 'dsf', 'sd', 'fsq', 'sdqf', 'sqdf', 'sqdfP3=fqsdf', 'fqs', 'sqdf', 'school', '3', '23', '31', '5', '31', '541', '316', '5413', '16P3=413', '16', '11', 'school', '3', '23', '31', '5', '31', '541', '316', '5413', '16P3=413', '16', '11', 'undefined', '2', '654', '66', '54', '31', '641', '316', '1', '316P3=13', '46', '16', 'school', 'P3=', 'undefined', 'P3=', 'undefined', '2', 'P3=', 'undefined', 'P3=', 'P3=']\n"
     ]
    },
    {
     "name": "stderr",
     "output_type": "stream",
     "text": [
      "127.0.0.1 - - [23/Jan/2018 23:51:11] \"POST /files/ HTTP/1.1\" 200 -\n",
      "127.0.0.1 - - [23/Jan/2018 23:52:16] \"GET /files/ HTTP/1.1\" 200 -\n",
      "127.0.0.1 - - [23/Jan/2018 23:52:16] \"GET /files/js/jquery-3.3.1.min.js HTTP/1.1\" 200 -\n",
      "127.0.0.1 - - [23/Jan/2018 23:52:16] \"GET /files/js/script.js HTTP/1.1\" 200 -\n",
      "127.0.0.1 - - [23/Jan/2018 23:52:16] \"GET /files/img/nba.jpg HTTP/1.1\" 200 -\n",
      "127.0.0.1 - - [23/Jan/2018 23:52:19] \"GET /files/?school=Alabama+Crimson+Tide&blocks= HTTP/1.1\" 200 -\n",
      "127.0.0.1 - - [23/Jan/2018 23:52:19] \"GET /files/js/script.js HTTP/1.1\" 200 -\n",
      "127.0.0.1 - - [23/Jan/2018 23:52:20] \"GET /files/?school=Alabama+Crimson+Tide&blocks= HTTP/1.1\" 200 -\n",
      "127.0.0.1 - - [23/Jan/2018 23:52:20] \"GET /files/js/script.js HTTP/1.1\" 200 -\n",
      "127.0.0.1 - - [23/Jan/2018 23:52:27] \"GET /files/?school=Arkansas-Pine+Bluff+Golden+Lions&blocks= HTTP/1.1\" 200 -\n",
      "127.0.0.1 - - [23/Jan/2018 23:52:28] \"GET /files/js/script.js HTTP/1.1\" 200 -\n",
      "127.0.0.1 - - [23/Jan/2018 23:54:18] \"GET /files/ HTTP/1.1\" 200 -\n",
      "127.0.0.1 - - [23/Jan/2018 23:54:18] \"GET /files/js/script.js HTTP/1.1\" 200 -\n"
     ]
    },
    {
     "name": "stdout",
     "output_type": "stream",
     "text": [
      "['hello,G=hello,MP=hello,PTS=hello,TRB=hello,AST=hello,STL=hello,BLK=hello,FG%=hello,2P%=hello,3P%=hello,FT%=hello,WS=hello,WS=hello', 'Abilene Christian Wildcats', '2', 'fdsqf', 'Abilene Christian Wildcats', '2', 'dsff', 'dsf', 'dsf', 'sd', 'fsq', 'sdqf', 'sqdf', 'sqdfP3=fqsdf', 'fqs', 'sqdf', 'Alabama A', '2', 'dsff', 'dsf', 'dsf', 'sd', 'fsq', 'sdqf', 'sqdf', 'sqdfP3=fqsdf', 'fqs', 'sqdf', 'school', '3', '23', '31', '5', '31', '541', '316', '5413', '16P3=413', '16', '11', 'school', '3', '23', '31', '5', '31', '541', '316', '5413', '16P3=413', '16', '11', 'undefined', '2', '654', '66', '54', '31', '641', '316', '1', '316P3=13', '46', '16', 'school', 'P3=', 'undefined', 'P3=', 'undefined', '2', 'P3=', 'undefined', 'P3=', 'P3=', 'undefined', '2', 'P3=']\n"
     ]
    },
    {
     "name": "stderr",
     "output_type": "stream",
     "text": [
      "127.0.0.1 - - [23/Jan/2018 23:54:22] \"POST /files/ HTTP/1.1\" 200 -\n",
      "127.0.0.1 - - [23/Jan/2018 23:56:42] \"GET /files/ HTTP/1.1\" 200 -\n",
      "127.0.0.1 - - [23/Jan/2018 23:56:43] \"GET /files/js/script.js HTTP/1.1\" 200 -\n",
      "127.0.0.1 - - [23/Jan/2018 23:58:12] \"GET /files/ HTTP/1.1\" 200 -\n",
      "127.0.0.1 - - [23/Jan/2018 23:58:12] \"GET /files/css/style.css HTTP/1.1\" 200 -\n",
      "127.0.0.1 - - [23/Jan/2018 23:58:12] \"GET /files/js/jquery-3.3.1.min.js HTTP/1.1\" 200 -\n",
      "127.0.0.1 - - [23/Jan/2018 23:58:12] \"GET /files/js/script.js HTTP/1.1\" 200 -\n",
      "127.0.0.1 - - [23/Jan/2018 23:58:13] \"GET /files/img/nba.jpg HTTP/1.1\" 200 -\n",
      "127.0.0.1 - - [23/Jan/2018 23:58:32] \"GET /files/ HTTP/1.1\" 200 -\n",
      "127.0.0.1 - - [23/Jan/2018 23:58:32] \"GET /files/js/script.js HTTP/1.1\" 200 -\n"
     ]
    }
   ],
   "source": [
    "import http.server\n",
    "import socketserver\n",
    "import cgi\n",
    "from urllib.parse import urlparse, parse_qs\n",
    "\n",
    "port = 8080\n",
    "bballarray = []\n",
    "\n",
    "class Handler(http.server.SimpleHTTPRequestHandler):\n",
    "    \n",
    "\n",
    "    print(bballarray)\n",
    "    def do_POST(self):\n",
    "\n",
    "        length = int(self.headers.get('content-length'))\n",
    "        field_data = self.rfile.read(length)\n",
    "        fields = parse_qs(field_data)\n",
    "        ##fiels bevat de array\n",
    "        for field in fields:\n",
    "            bballarray.append(fields[field][0].decode('UTF-8'))\n",
    "        #array for ml algoritme\n",
    "        print(bballarray)\n",
    "        \n",
    "        ##todo: add response true or false\n",
    "        self.send_response(200)\n",
    "        self.end_headers()\n",
    "        self.wfile.write(b'true')\n",
    "        return\n",
    "        \n",
    "httpd = socketserver.TCPServer((\"\",port), Handler)\n",
    "print(\"Server at PORT: \", port)\n",
    "httpd.serve_forever()\n",
    "\n"
   ]
  },
  {
   "cell_type": "code",
   "execution_count": null,
   "metadata": {
    "collapsed": true
   },
   "outputs": [],
   "source": []
  },
  {
   "cell_type": "code",
   "execution_count": null,
   "metadata": {
    "collapsed": true
   },
   "outputs": [],
   "source": []
  }
 ],
 "metadata": {
  "kernelspec": {
   "display_name": "Python 3",
   "language": "python",
   "name": "python3"
  }
 },
 "nbformat": 4,
 "nbformat_minor": 2
}
