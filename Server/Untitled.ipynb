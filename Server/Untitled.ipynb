{
 "cells": [
  {
   "cell_type": "code",
   "execution_count": null,
   "metadata": {},
   "outputs": [
    {
     "name": "stdout",
     "output_type": "stream",
     "text": [
      "Server at PORT:  8000\n"
     ]
    },
    {
     "name": "stderr",
     "output_type": "stream",
     "text": [
      "127.0.0.1 - - [23/Jan/2018 19:36:14] \"GET / HTTP/1.1\" 200 -\n",
      "127.0.0.1 - - [23/Jan/2018 19:36:14] code 404, message File not found\n",
      "127.0.0.1 - - [23/Jan/2018 19:36:14] \"GET /favicon.ico HTTP/1.1\" 404 -\n",
      "127.0.0.1 - - [23/Jan/2018 19:36:16] \"GET /files/ HTTP/1.1\" 200 -\n",
      "127.0.0.1 - - [23/Jan/2018 19:36:16] \"GET /files/css/style.css HTTP/1.1\" 200 -\n",
      "127.0.0.1 - - [23/Jan/2018 19:36:16] \"GET /files/js/script.js HTTP/1.1\" 200 -\n"
     ]
    },
    {
     "name": "stdout",
     "output_type": "stream",
     "text": [
      "<_io.BufferedReader name=608>\n",
      "Host: localhost:8000\n",
      "Connection: keep-alive\n",
      "Content-Length: 10\n",
      "Origin: http://localhost:8000\n",
      "User-Agent: Mozilla/5.0 (Windows NT 10.0; Win64; x64) AppleWebKit/537.36 (KHTML, like Gecko) Chrome/63.0.3239.132 Safari/537.36\n",
      "Content-type: application/x-www-form-urlencoded\n",
      "Accept: */*\n",
      "Referer: http://localhost:8000/files/\n",
      "Accept-Encoding: gzip, deflate, br\n",
      "Accept-Language: nl-NL,nl;q=0.9,en-US;q=0.8,en;q=0.7\n",
      "Cookie: io=v-m-zHA8Nhv5vN00AAA7; username-localhost-8888=\"2|1:0|10:1516732536|23:username-localhost-8888|44:OTk2MDg3YjMyMGQzNGRlYmJiY2U0MTRkMzcwMDJkMmY=|c518303312b238befcbe395f1a6c566b0a82f3b507c60e9eb263a2a9e2d8278e\"; _xsrf=2|399bb066|2db42e3d1b9281de563a4da136d77e4e|1516732536\n",
      "\n",
      "\n",
      "application/x-www-form-urlencoded\n",
      "post done\n"
     ]
    },
    {
     "name": "stderr",
     "output_type": "stream",
     "text": [
      "127.0.0.1 - - [23/Jan/2018 19:36:16] \"GET /files/img/background.jpg HTTP/1.1\" 200 -\n",
      "127.0.0.1 - - [23/Jan/2018 19:37:22] \"GET /files/ HTTP/1.1\" 200 -\n",
      "127.0.0.1 - - [23/Jan/2018 19:37:22] \"GET /files/js/jquery-3.3.1.min.js HTTP/1.1\" 200 -\n",
      "127.0.0.1 - - [23/Jan/2018 19:37:22] \"GET /files/css/style.css HTTP/1.1\" 200 -\n",
      "127.0.0.1 - - [23/Jan/2018 19:37:22] \"GET /files/js/script.js HTTP/1.1\" 200 -\n",
      "127.0.0.1 - - [23/Jan/2018 19:37:22] \"GET /files/img/nba.jpg HTTP/1.1\" 200 -\n",
      "127.0.0.1 - - [23/Jan/2018 19:37:22] \"GET /files/data/jsonSchools.JSON HTTP/1.1\" 200 -\n"
     ]
    }
   ],
   "source": [
    "import http.server\n",
    "import socketserver\n",
    "import cgi\n",
    "\n",
    "port = 8000\n",
    "\n",
    "class Handler(http.server.SimpleHTTPRequestHandler):\n",
    "    def do_POST(self):\n",
    "        \n",
    "        print(self.rfile)\n",
    "        print(self.headers)\n",
    "        print(self.headers[\"Content-Type\"])\n",
    "        \n",
    "        form = cgi.FieldStorage(\n",
    "            fp=self.rfile, \n",
    "            headers=self.headers,\n",
    "            environ={'REQUEST_METHOD':'POST',\n",
    "                     'CONTENT_TYPE':self.headers['Content-Type'],\n",
    "                     })\n",
    "        print(\"post done\")\n",
    "        \n",
    "\n",
    "httpd = socketserver.TCPServer((\"\",port), Handler)\n",
    "print(\"Server at PORT: \", port)\n",
    "httpd.serve_forever()\n",
    "\n"
   ]
  },
  {
   "cell_type": "code",
   "execution_count": null,
   "metadata": {
    "collapsed": true
   },
   "outputs": [],
   "source": []
  },
  {
   "cell_type": "code",
   "execution_count": null,
   "metadata": {
    "collapsed": true
   },
   "outputs": [],
   "source": []
  }
 ],
 "metadata": {
  "kernelspec": {
   "display_name": "Python 3",
   "language": "python",
   "name": "python3"
  },
  "language_info": {
   "codemirror_mode": {
    "name": "ipython",
    "version": 3
   },
   "file_extension": ".py",
   "mimetype": "text/x-python",
   "name": "python",
   "nbconvert_exporter": "python",
   "pygments_lexer": "ipython3",
   "version": "3.6.2"
  }
 },
 "nbformat": 4,
 "nbformat_minor": 2
}
