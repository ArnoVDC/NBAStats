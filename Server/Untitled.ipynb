{
 "cells": [
  {
   "cell_type": "code",
   "execution_count": null,
   "metadata": {},
   "outputs": [
    {
     "name": "stdout",
     "output_type": "stream",
     "text": [
      "[]\n",
      "Server at PORT:  8080\n"
     ]
    },
    {
     "name": "stderr",
     "output_type": "stream",
     "text": [
      "127.0.0.1 - - [23/Jan/2018 23:07:11] \"GET /Untitled.ipynb HTTP/1.1\" 200 -\n",
      "127.0.0.1 - - [23/Jan/2018 23:07:12] \"GET /files/ HTTP/1.1\" 200 -\n",
      "127.0.0.1 - - [23/Jan/2018 23:07:13] \"GET /files/css/style.css HTTP/1.1\" 200 -\n",
      "127.0.0.1 - - [23/Jan/2018 23:07:13] \"GET /files/js/jquery-3.3.1.min.js HTTP/1.1\" 200 -\n",
      "127.0.0.1 - - [23/Jan/2018 23:07:13] \"GET /files/js/script.js HTTP/1.1\" 200 -\n",
      "127.0.0.1 - - [23/Jan/2018 23:07:13] \"GET /files/data/jsonSchools.JSON HTTP/1.1\" 200 -\n",
      "127.0.0.1 - - [23/Jan/2018 23:07:13] \"GET /files/img/nba.jpg HTTP/1.1\" 200 -\n"
     ]
    },
    {
     "name": "stdout",
     "output_type": "stream",
     "text": [
      "['hello,G=hello,MP=hello,PTS=hello,TRB=hello,AST=hello,STL=hello,BLK=hello,FG%=hello,2P%=hello,3P%=hello,FT%=hello,WS=hello,WS=hello']\n"
     ]
    },
    {
     "name": "stderr",
     "output_type": "stream",
     "text": [
      "127.0.0.1 - - [23/Jan/2018 23:07:16] \"POST /files/ HTTP/1.1\" 200 -\n"
     ]
    }
   ],
   "source": [
    "import http.server\n",
    "import socketserver\n",
    "import cgi\n",
    "from urllib.parse import urlparse, parse_qs\n",
    "\n",
    "port = 8080\n",
    "bballarray = []\n",
    "\n",
    "class Handler(http.server.SimpleHTTPRequestHandler):\n",
    "    \n",
    "\n",
    "    print(bballarray)\n",
    "    def do_POST(self):\n",
    "\n",
    "        length = int(self.headers.get('content-length'))\n",
    "        field_data = self.rfile.read(length)\n",
    "        fields = parse_qs(field_data)\n",
    "        ##fiels bevat de array\n",
    "        for field in fields:\n",
    "            bballarray.append(fields[field][0].decode('UTF-8'))\n",
    "        #array for ml algoritme\n",
    "        print(bballarray)\n",
    "        \n",
    "        ##todo: add response true or false\n",
    "        self.send_response(200)\n",
    "        self.end_headers()\n",
    "        self.wfile.write(b'true')\n",
    "        return\n",
    "        \n",
    "httpd = socketserver.TCPServer((\"\",port), Handler)\n",
    "print(\"Server at PORT: \", port)\n",
    "httpd.serve_forever()\n",
    "\n"
   ]
  },
  {
   "cell_type": "code",
   "execution_count": null,
   "metadata": {
    "collapsed": true
   },
   "outputs": [],
   "source": []
  },
  {
   "cell_type": "code",
   "execution_count": null,
   "metadata": {
    "collapsed": true
   },
   "outputs": [],
   "source": []
  }
 ],
 "metadata": {
  "kernelspec": {
   "display_name": "Python 3",
   "language": "python",
   "name": "python3"
  }
 },
 "nbformat": 4,
 "nbformat_minor": 2
}
