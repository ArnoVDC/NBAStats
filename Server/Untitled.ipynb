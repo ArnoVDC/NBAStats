{
 "cells": [
  {
   "cell_type": "code",
   "execution_count": null,
   "metadata": {},
   "outputs": [],
   "source": [
    "import http.server\n",
    "import socketserver\n",
    "import cgi\n",
    "\n",
    "port = 8000\n",
    "\n",
    "class Handler(http.server.SimpleHTTPRequestHandler):\n",
    "    def do_POST(self):\n",
    "        \n",
    "        print(self.rfile)\n",
    "        print(self.headers)\n",
    "        print(self.headers[\"Content-Type\"])\n",
    "        \n",
    "        form = cgi.FieldStorage(\n",
    "            fp=self.rfile, \n",
    "            headers=self.headers,\n",
    "            environ={'REQUEST_METHOD':'POST',\n",
    "                     'CONTENT_TYPE':self.headers['Content-Type'],\n",
    "                     })\n",
    "        print(\"post done\")\n",
    "        \n",
    "\n",
    "httpd = socketserver.TCPServer((\"\",port), Handler)\n",
    "print(\"Server at PORT: \", port)\n",
    "httpd.serve_forever()\n",
    "\n"
   ]
  },
  {
   "cell_type": "code",
   "execution_count": null,
   "metadata": {
    "collapsed": true
   },
   "outputs": [],
   "source": []
  },
  {
   "cell_type": "code",
   "execution_count": null,
   "metadata": {
    "collapsed": true
   },
   "outputs": [],
   "source": []
  },
  {
   "cell_type": "code",
   "execution_count": null,
   "metadata": {
    "collapsed": true
   },
   "outputs": [],
   "source": []
  }
 ],
 "metadata": {
  "kernelspec": {
   "display_name": "Python 3",
   "language": "python",
   "name": "python3"
  },
  "language_info": {
   "codemirror_mode": {
    "name": "ipython",
    "version": 3
   },
   "file_extension": ".py",
   "mimetype": "text/x-python",
   "name": "python",
   "nbconvert_exporter": "python",
   "pygments_lexer": "ipython3",
   "version": "3.6.2"
  }
 },
 "nbformat": 4,
 "nbformat_minor": 2
}
