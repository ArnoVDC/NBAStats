{
 "cells": [
  {
   "cell_type": "code",
   "execution_count": null,
   "metadata": {},
   "outputs": [
    {
     "name": "stdout",
     "output_type": "stream",
     "text": [
<<<<<<< HEAD
      "Server at PORT:  8080\n"
=======
      "[]\n",
      "Server at PORT:  8000\n",
      "['hello', 'hello2']\n"
>>>>>>> 2727333ca5b0caf54fb5552afb9cc5274bd02003
     ]
    },
    {
     "name": "stderr",
     "output_type": "stream",
     "text": [
<<<<<<< HEAD
      "127.0.0.1 - - [23/Jan/2018 22:38:10] \"GET / HTTP/1.1\" 200 -\n",
      "127.0.0.1 - - [23/Jan/2018 22:38:12] \"GET /files/ HTTP/1.1\" 200 -\n",
      "127.0.0.1 - - [23/Jan/2018 22:38:12] \"GET /files/css/style.css HTTP/1.1\" 200 -\n",
      "127.0.0.1 - - [23/Jan/2018 22:38:12] \"GET /files/js/jquery-3.3.1.min.js HTTP/1.1\" 200 -\n",
      "127.0.0.1 - - [23/Jan/2018 22:38:12] \"GET /files/js/script.js HTTP/1.1\" 200 -\n",
      "127.0.0.1 - - [23/Jan/2018 22:38:13] \"GET /files/data/jsonSchools.JSON HTTP/1.1\" 200 -\n",
      "127.0.0.1 - - [23/Jan/2018 22:38:13] \"GET /files/img/nba.jpg HTTP/1.1\" 200 -\n"
     ]
    },
    {
     "name": "stdout",
     "output_type": "stream",
     "text": [
      "{b'data': [b'hello']}\n",
      "{b'data': [b'hello']}\n",
      "{b'data': [b'hello']}\n"
     ]
    },
    {
     "name": "stderr",
     "output_type": "stream",
     "text": [
      "127.0.0.1 - - [23/Jan/2018 22:38:49] \"GET /files/css/style.css HTTP/1.1\" 200 -\n"
     ]
    },
    {
     "name": "stdout",
     "output_type": "stream",
     "text": [
      "{b'data': [b'hello']}\n"
     ]
    },
    {
     "name": "stderr",
     "output_type": "stream",
     "text": [
      "127.0.0.1 - - [23/Jan/2018 22:41:09] \"GET /files/ HTTP/1.1\" 200 -\n",
      "127.0.0.1 - - [23/Jan/2018 22:41:09] \"GET /files/css/style.css HTTP/1.1\" 200 -\n",
      "127.0.0.1 - - [23/Jan/2018 22:41:09] \"GET /files/js/jquery-3.3.1.min.js HTTP/1.1\" 200 -\n",
      "127.0.0.1 - - [23/Jan/2018 22:41:09] \"GET /files/js/script.js HTTP/1.1\" 200 -\n",
      "127.0.0.1 - - [23/Jan/2018 22:41:09] \"GET /files/img/nba.jpg HTTP/1.1\" 200 -\n",
      "127.0.0.1 - - [23/Jan/2018 22:41:10] \"GET /files/data/jsonSchools.JSON HTTP/1.1\" 200 -\n"
     ]
    },
    {
     "name": "stdout",
     "output_type": "stream",
     "text": [
      "{b'data': [b'hello']}\n",
      "{b'data': [b'hello']}\n"
=======
      "127.0.0.1 - - [23/Jan/2018 22:55:25] \"POST /files/ HTTP/1.1\" 200 -\n"
>>>>>>> 2727333ca5b0caf54fb5552afb9cc5274bd02003
     ]
    }
   ],
   "source": [
    "import http.server\n",
    "import socketserver\n",
    "import cgi\n",
    "from urllib.parse import urlparse, parse_qs\n",
    "\n",
<<<<<<< HEAD
    "port = 8080\n",
=======
    "port = 8000\n",
    "bballarray = []\n",
>>>>>>> 2727333ca5b0caf54fb5552afb9cc5274bd02003
    "\n",
    "class Handler(http.server.SimpleHTTPRequestHandler):\n",
    "    \n",
    "\n",
    "    print(bballarray)\n",
    "    def do_POST(self):\n",
    "\n",
    "        length = int(self.headers.get('content-length'))\n",
    "        field_data = self.rfile.read(length)\n",
    "        fields = parse_qs(field_data)\n",
    "        ##fiels bevat de array\n",
    "        for field in fields:\n",
    "            bballarray.append(fields[field][0].decode('UTF-8'))\n",
    "        #array for ml algoritme\n",
    "        print(bballarray)\n",
    "        \n",
    "        ##todo: add response true or false\n",
    "        self.send_response(200)\n",
    "        self.end_headers()\n",
    "        self.wfile.write(b'true')\n",
    "        return\n",
    "        \n",
    "httpd = socketserver.TCPServer((\"\",port), Handler)\n",
    "print(\"Server at PORT: \", port)\n",
    "httpd.serve_forever()\n",
    "\n"
   ]
  },
  {
   "cell_type": "code",
   "execution_count": null,
   "metadata": {
    "collapsed": true
   },
   "outputs": [],
   "source": []
  },
  {
   "cell_type": "code",
   "execution_count": null,
   "metadata": {
    "collapsed": true
   },
   "outputs": [],
   "source": []
  }
 ],
 "metadata": {
  "kernelspec": {
   "display_name": "Python 3",
   "language": "python",
   "name": "python3"
  },
  "language_info": {
   "codemirror_mode": {
    "name": "ipython",
    "version": 3
   },
   "file_extension": ".py",
   "mimetype": "text/x-python",
   "name": "python",
   "nbconvert_exporter": "python",
   "pygments_lexer": "ipython3",
   "version": "3.6.2"
  }
 },
 "nbformat": 4,
 "nbformat_minor": 2
}
