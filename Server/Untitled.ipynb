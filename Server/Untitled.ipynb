{
 "cells": [
  {
   "cell_type": "code",
   "execution_count": null,
   "metadata": {},
   "outputs": [
    {
     "name": "stdout",
     "output_type": "stream",
     "text": [
      "Server at PORT:  8000\n"
     ]
    },
    {
     "name": "stderr",
     "output_type": "stream",
     "text": [
      "127.0.0.1 - - [23/Jan/2018 19:30:53] \"GET /files/ HTTP/1.1\" 200 -\n",
      "127.0.0.1 - - [23/Jan/2018 19:30:54] \"GET /files/js/script.js HTTP/1.1\" 200 -\n"
     ]
    },
    {
     "name": "stdout",
     "output_type": "stream",
     "text": [
      "<_io.BufferedReader name=1424>\n",
      "Host: localhost:8000\n",
      "Connection: keep-alive\n",
      "Content-Length: 10\n",
      "Origin: http://localhost:8000\n",
      "User-Agent: Mozilla/5.0 (Windows NT 10.0; Win64; x64) AppleWebKit/537.36 (KHTML, like Gecko) Chrome/63.0.3239.132 Safari/537.36\n",
      "Content-type: application/x-www-form-urlencoded\n",
      "Accept: */*\n",
      "Referer: http://localhost:8000/files/\n",
      "Accept-Encoding: gzip, deflate, br\n",
      "Accept-Language: nl-NL,nl;q=0.9,en-US;q=0.8,en;q=0.7\n",
      "Cookie: Webstorm-3c52dca5=87c97e5b-60f8-45c2-b696-79754aa96fe7; Webstorm-a4340984=94be9f80-829c-4a1a-b81f-e1ee593094ea; _xsrf=2|83cf2f80|95fed655e93c928fe83ba04088cc5956|1516540999; username-localhost-8888=\"2|1:0|10:1516728701|23:username-localhost-8888|44:MjgwYmU0Yzg1Nzk4NDg1NDgwMjViZTgwYWIwM2U5NzU=|9358616745fa86331af68378648f6cd7793db0345351ae76e8edf7efc5079f97\"\n",
      "\n",
      "\n",
      "application/x-www-form-urlencoded\n",
      "post done\n"
     ]
    }
   ],
   "source": [
    "import http.server\n",
    "import socketserver\n",
    "import cgi\n",
    "\n",
    "port = 8000\n",
    "\n",
    "class Handler(http.server.SimpleHTTPRequestHandler):\n",
    "    def do_POST(self):\n",
    "        \n",
    "        print(self.rfile)\n",
    "        print(self.headers)\n",
    "        print(self.headers[\"Content-Type\"])\n",
    "        \n",
    "        form = cgi.FieldStorage(\n",
    "            fp=self.rfile, \n",
    "            headers=self.headers,\n",
    "            environ={'REQUEST_METHOD':'POST',\n",
    "                     'CONTENT_TYPE':self.headers['Content-Type'],\n",
    "                     })\n",
    "        print(\"post done\")\n",
    "        \n",
    "\n",
    "httpd = socketserver.TCPServer((\"\",port), Handler)\n",
    "print(\"Server at PORT: \", port)\n",
    "httpd.serve_forever()\n",
    "\n"
   ]
  },
  {
   "cell_type": "code",
   "execution_count": null,
   "metadata": {
    "collapsed": true
   },
   "outputs": [],
   "source": []
  },
  {
   "cell_type": "code",
   "execution_count": null,
   "metadata": {
    "collapsed": true
   },
   "outputs": [],
   "source": []
  }
 ],
 "metadata": {
  "kernelspec": {
   "display_name": "Python 3",
   "language": "python",
   "name": "python3"
  },
  "language_info": {
   "codemirror_mode": {
    "name": "ipython",
    "version": 3
   },
   "file_extension": ".py",
   "mimetype": "text/x-python",
   "name": "python",
   "nbconvert_exporter": "python",
   "pygments_lexer": "ipython3",
   "version": "3.6.3"
  }
 },
 "nbformat": 4,
 "nbformat_minor": 2
}
